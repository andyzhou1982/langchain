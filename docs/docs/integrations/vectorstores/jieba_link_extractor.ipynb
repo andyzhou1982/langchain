{
 "cells": [
  {
   "cell_type": "raw",
   "id": "1957f5cb",
   "metadata": {
    "vscode": {
     "languageId": "raw"
    }
   },
   "source": [
    "---\n",
    "Jieba link extractor\n",
    "---"
   ]
  },
  {
   "cell_type": "markdown",
   "id": "ef1f0986",
   "metadata": {},
   "source": [
    "## Description\n",
    "langchain_community.graph_vectorstores support storing texts and their relationships in a vector database in the form of a knowledge graph.But the\n",
    "recommended extractor such as `KeybertLinkExtractor` works better in an English environment,while it performs poorly in a Chinese environment.\n",
    "`JiebaLinkExtractor` extract keywords from texts depend on `jieba.analyse` lib, which more suitable in a Chinese environment."
   ]
  },
  {
   "cell_type": "markdown",
   "id": "36fdc060",
   "metadata": {},
   "source": [
    "## Setup"
   ]
  },
  {
   "cell_type": "raw",
   "id": "64e28aa6",
   "metadata": {
    "vscode": {
     "languageId": "raw"
    }
   },
   "source": [
    "%pip install -qU \"langchain_jieba\""
   ]
  },
  {
   "cell_type": "markdown",
   "id": "93df377e",
   "metadata": {},
   "source": [
    "## Initialization"
   ]
  },
  {
   "cell_type": "code",
   "execution_count": 2,
   "id": "dc37144c-208d-4ab3-9f3a-0407a69fe052",
   "metadata": {
    "tags": []
   },
   "outputs": [
    {
     "name": "stdout",
     "output_type": "stream",
     "text": [
      "results={Link(kind='kw', direction='bidir', tag='日本京都大学'), Link(kind='kw', direction='bidir', tag='小明'), Link(kind='kw', direction='bidir', tag='计算所')}\n"
     ]
    }
   ],
   "source": [
    "from langchain_jieba import JiebaLinkExtractor\n",
    "\n",
    "extractor = JiebaLinkExtractor()\n",
    "results = extractor.extract_one(\"小明硕士毕业于中国科学院计算所，后在日本京都大学深造\")\n",
    "print(f\"results={results}\")"
   ]
  },
  {
   "cell_type": "code",
   "execution_count": 3,
   "id": "61d032ef",
   "metadata": {},
   "outputs": [
    {
     "name": "stdout",
     "output_type": "stream",
     "text": [
      "results[0]={Link(kind='kw', direction='bidir', tag='日本京都大学'), Link(kind='kw', direction='bidir', tag='小明'), Link(kind='kw', direction='bidir', tag='计算所')}\n",
      "results[1]={Link(kind='kw', direction='bidir', tag='清华大学'), Link(kind='kw', direction='bidir', tag='来到'), Link(kind='kw', direction='bidir', tag='北京')}\n"
     ]
    }
   ],
   "source": [
    "from langchain_jieba import JiebaLinkExtractor\n",
    "\n",
    "CONTENT1 = \"小明硕士毕业于中国科学院计算所，后在日本京都大学深造\"\n",
    "CONTENT2 = \"我来到北京清华大学\"\n",
    "extractor = JiebaLinkExtractor()\n",
    "results = list(extractor.extract_many([CONTENT1, CONTENT2]))\n",
    "print(f\"results[0]={results[0]}\")\n",
    "print(f\"results[1]={results[1]}\")"
   ]
  },
  {
   "cell_type": "markdown",
   "id": "ac6071d4",
   "metadata": {},
   "source": [
    "## Manage vector store"
   ]
  },
  {
   "cell_type": "markdown",
   "id": "c3620501",
   "metadata": {},
   "source": [
    "## Query vector store"
   ]
  },
  {
   "cell_type": "markdown",
   "id": "901c75dc",
   "metadata": {},
   "source": [
    "## Usage for retrieval-augmented generation"
   ]
  },
  {
   "cell_type": "markdown",
   "id": "8a27244f",
   "metadata": {},
   "source": [
    "## API reference"
   ]
  }
 ],
 "metadata": {
  "kernelspec": {
   "display_name": "langchain-jieba",
   "language": "python",
   "name": "python3"
  },
  "language_info": {
   "codemirror_mode": {
    "name": "ipython",
    "version": 3
   },
   "file_extension": ".py",
   "mimetype": "text/x-python",
   "name": "python",
   "nbconvert_exporter": "python",
   "pygments_lexer": "ipython3",
   "version": "3.11.11"
  }
 },
 "nbformat": 4,
 "nbformat_minor": 5
}
